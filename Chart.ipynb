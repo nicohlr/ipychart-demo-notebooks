{
 "cells": [
  {
   "cell_type": "markdown",
   "metadata": {
    "colab_type": "text",
    "id": "xKU3RDZbNPAB"
   },
   "source": [
    "# **Ipychart - Chart class**"
   ]
  },
  {
   "cell_type": "markdown",
   "metadata": {
    "colab_type": "text",
    "id": "vrIalhweNw0k"
   },
   "source": [
    "The first class of the ipychart API is the *Chart* class. It allows you to create charts like using Chart.js but with Python in a Jupyter environement.\n",
    "\n",
    "The syntax to create a chart in ipychart [is extremely similar - not to say identical - to the syntax of Chart.js](https://nicohlr.gitlab.io/ipychart/user_guide/usage.html#chart-js-vs-ipychart). It is made to make all options and possibilities offered by Chart.js avaible in ipychart.\n",
    "\n",
    "In this notebook you will find examples of how to create charts with ipychart. All types of charts that can be created are implemented below. You can also find these examples in the official documentation of the package: https://nicohlr.gitlab.io/ipychart/"
   ]
  },
  {
   "cell_type": "markdown",
   "metadata": {
    "colab_type": "text",
    "id": "ElNf9ZbqlLey"
   },
   "source": [
    "## **Imports**"
   ]
  },
  {
   "cell_type": "code",
   "execution_count": null,
   "metadata": {
    "colab": {
     "base_uri": "https://localhost:8080/",
     "height": 319
    },
    "colab_type": "code",
    "id": "a5RKOM9LlKpb",
    "outputId": "93048061-2be7-4823-fbc6-72df7684ac97"
   },
   "outputs": [],
   "source": [
    "import random\n",
    "from ipychart import Chart"
   ]
  },
  {
   "cell_type": "markdown",
   "metadata": {
    "colab_type": "text",
    "id": "HKEUFIlAlt7y"
   },
   "source": [
    "## **Charts**"
   ]
  },
  {
   "cell_type": "markdown",
   "metadata": {
    "colab_type": "text",
    "id": "btYaVW3pl2HZ"
   },
   "source": [
    "### Line"
   ]
  },
  {
   "cell_type": "code",
   "execution_count": null,
   "metadata": {
    "colab": {},
    "colab_type": "code",
    "id": "fpFLZimWm_xJ"
   },
   "outputs": [],
   "source": [
    "dataset = {\n",
    "  'labels': ['Germany','Spain', 'UK', 'Italy', 'Norway', 'France', 'Poland', \n",
    "             'Portugal', 'Sweden', 'Ireland'],\n",
    "  'datasets': [{'data': [14, 106, 16, 107, 45, 133, 19, 109, 60, 107]}]\n",
    "}\n",
    "\n",
    "mychart = Chart(dataset, 'line')\n",
    "mychart"
   ]
  },
  {
   "cell_type": "markdown",
   "metadata": {
    "colab_type": "text",
    "id": "sM4U8hmXl8oP"
   },
   "source": [
    "### Bar"
   ]
  },
  {
   "cell_type": "code",
   "execution_count": null,
   "metadata": {
    "colab": {},
    "colab_type": "code",
    "id": "V_qbHLg0nCUc"
   },
   "outputs": [],
   "source": [
    "dataset = {\n",
    "  'labels': ['Germany','Spain', 'UK', 'Italy', 'Norway', 'France', 'Poland', \n",
    "             'Portugal', 'Sweden', 'Ireland'],\n",
    "  'datasets': [{'data': [14, 106, 16, 107, 45, 133, 19, 109, 60, 107]}]}\n",
    "\n",
    "mychart = Chart(dataset, 'bar')\n",
    "mychart"
   ]
  },
  {
   "cell_type": "code",
   "execution_count": null,
   "metadata": {
    "colab": {},
    "colab_type": "code",
    "id": "mpInNIUdnIwC"
   },
   "outputs": [],
   "source": [
    "dataset = {\n",
    "  'labels': ['Germany','Spain', 'UK', 'Italy', 'Norway', 'France', 'Poland', \n",
    "             'Portugal', 'Sweden', 'Ireland'],\n",
    "  'datasets': [{'data': [14, 106, 16, 107, 45, 133, 19, 109, 60, 107]}]}\n",
    "\n",
    "mychart = Chart(dataset, 'horizontalBar') # Set the type to horizontalBar to rotate the chart\n",
    "mychart"
   ]
  },
  {
   "cell_type": "markdown",
   "metadata": {
    "colab_type": "text",
    "id": "sL4fK8hgl8qv"
   },
   "source": [
    "### Radar"
   ]
  },
  {
   "cell_type": "code",
   "execution_count": null,
   "metadata": {
    "colab": {},
    "colab_type": "code",
    "id": "xwx3ixYqnFHO"
   },
   "outputs": [],
   "source": [
    "dataset = {\n",
    "  'labels': ['Top','TopRight', 'BottomRight', 'BottomLeft', 'TopLeft'],\n",
    "  'datasets': [{'data': [140, 106, 160, 107, 45],\n",
    "                'label': 'Dataset1',\n",
    "                'borderWidth': 3},\n",
    "               {'data': [32, 160, 72, 140, 89],\n",
    "                'label': 'Dataset2',\n",
    "                'borderWidth': 3}]\n",
    "}\n",
    "\n",
    "mychart = Chart(dataset, 'radar')\n",
    "mychart"
   ]
  },
  {
   "cell_type": "markdown",
   "metadata": {
    "colab_type": "text",
    "id": "-2-AJty9l8tQ"
   },
   "source": [
    " ### Doughnut "
   ]
  },
  {
   "cell_type": "code",
   "execution_count": null,
   "metadata": {
    "colab": {},
    "colab_type": "code",
    "id": "MWpWBaQXnLcg"
   },
   "outputs": [],
   "source": [
    "dataset = {\n",
    "  'labels': ['Red','Blue', 'Yellow', 'Green', 'Purple'],\n",
    "  'datasets': [{'data': [140, 106, 160, 107, 45],\n",
    "                'backgroundColor': ['rgba(255, 99, 132, 1)', \n",
    "                                    'rgba(54, 162, 235, 1)',\n",
    "                                    'rgba(255, 206, 86, 1)',\n",
    "                                    'rgba(75, 192, 192, 1)',\n",
    "                                    'rgba(153, 102, 255, 1)']\n",
    "}]}\n",
    "\n",
    "mychart = Chart(dataset, 'doughnut')\n",
    "mychart"
   ]
  },
  {
   "cell_type": "markdown",
   "metadata": {
    "colab_type": "text",
    "id": "OnJW_Qo8l8vl"
   },
   "source": [
    "### Pie"
   ]
  },
  {
   "cell_type": "code",
   "execution_count": null,
   "metadata": {
    "colab": {},
    "colab_type": "code",
    "id": "KzypoXTbnP49"
   },
   "outputs": [],
   "source": [
    "dataset = {\n",
    "  'labels': ['Red','Blue', 'Yellow', 'Green', 'Purple'],\n",
    "  'datasets': [{'data': [140, 106, 160, 107, 45],\n",
    "                'backgroundColor': ['rgba(255, 99, 132, 1)', \n",
    "                                    'rgba(54, 162, 235, 1)',\n",
    "                                    'rgba(255, 206, 86, 1)',\n",
    "                                    'rgba(75, 192, 192, 1)',\n",
    "                                    'rgba(153, 102, 255, 1)']\n",
    "}]}\n",
    "\n",
    "mychart = Chart(dataset, 'pie')\n",
    "mychart"
   ]
  },
  {
   "cell_type": "markdown",
   "metadata": {
    "colab_type": "text",
    "id": "0F34Vt0el8x_"
   },
   "source": [
    "### Polar Area"
   ]
  },
  {
   "cell_type": "code",
   "execution_count": null,
   "metadata": {
    "colab": {},
    "colab_type": "code",
    "id": "90j3GbEonTFy"
   },
   "outputs": [],
   "source": [
    "dataset = {\n",
    "    'labels': ['Red','Blue', 'Yellow', 'Green', 'Purple'],\n",
    "    'datasets': [{'data': [140, 106, 160, 107, 45],\n",
    "                  'backgroundColor': ['rgba(255, 99, 132, 1)', \n",
    "                                      'rgba(54, 162, 235, 1)',\n",
    "                                      'rgba(255, 206, 86, 1)',\n",
    "                                      'rgba(75, 192, 192, 1)',\n",
    "                                      'rgba(153, 102, 255, 1)'],\n",
    "                  'borderColor': ['#fff']*5,\n",
    "                  'borderWidth': 2.5\n",
    "}]}\n",
    "\n",
    "mychart = Chart(dataset, 'polarArea')\n",
    "mychart"
   ]
  },
  {
   "cell_type": "markdown",
   "metadata": {
    "colab_type": "text",
    "id": "74p8gTWPmGT0"
   },
   "source": [
    "### Scatter"
   ]
  },
  {
   "cell_type": "code",
   "execution_count": null,
   "metadata": {
    "colab": {},
    "colab_type": "code",
    "id": "tlb757KAnWJs"
   },
   "outputs": [],
   "source": [
    "dataset = {\n",
    "  'datasets': [{'data': [\n",
    "    {'x': random.randint(0, 100), \n",
    "     'y': random.randint(0, 100), \n",
    "     'r': random.randint(0, 100)} for _ in range(100)\n",
    "  ]}]\n",
    "}\n",
    "\n",
    "mychart = Chart(dataset, 'scatter')\n",
    "mychart"
   ]
  },
  {
   "cell_type": "markdown",
   "metadata": {
    "colab_type": "text",
    "id": "dKn_9JrxmGMQ"
   },
   "source": [
    "### Bubble"
   ]
  },
  {
   "cell_type": "code",
   "execution_count": null,
   "metadata": {
    "colab": {},
    "colab_type": "code",
    "id": "8MvSs8pYnZEp"
   },
   "outputs": [],
   "source": [
    "dataset = {\n",
    "  'datasets': [{'data': [{'x': 20, 'y': 30, 'r': 20}, \n",
    "                         {'x': 10, 'y': 20, 'r': 40}, \n",
    "                         {'x': 15, 'y': 40, 'r': 90}, \n",
    "                         {'x': 5, 'y': 10, 'r': 50}],\n",
    "                'borderWidth': 4}]\n",
    "}\n",
    "\n",
    "options = {\n",
    "  'scales': {'xAxes': [{'ticks': {'min': 0, 'max': 25}}],\n",
    "             'yAxes': [{'ticks': {'min': 0, 'max': 60}}]}\n",
    "}\n",
    "\n",
    "mychart = Chart(dataset, 'bubble', options=options)\n",
    "mychart"
   ]
  },
  {
   "cell_type": "markdown",
   "metadata": {
    "colab_type": "text",
    "id": "qVTWV-GLmyXs"
   },
   "source": [
    "### Other"
   ]
  },
  {
   "cell_type": "markdown",
   "metadata": {
    "colab_type": "text",
    "id": "KUiebsVAm05A"
   },
   "source": [
    "#### Stacked"
   ]
  },
  {
   "cell_type": "code",
   "execution_count": null,
   "metadata": {
    "colab": {},
    "colab_type": "code",
    "id": "tv7uV4CCnbep"
   },
   "outputs": [],
   "source": [
    "dataset = {\n",
    "  'labels': ['Label 1', 'Label 2', 'Label 3'],\n",
    "  'datasets': [\n",
    "    { 'data': [221, 783, 2478], 'label': \"Africa\",\n",
    "    'fill': False}, \n",
    "    {'data': [1402, 3700, 5267], 'label': \"Asia\",\n",
    "     'fill': False}, \n",
    "    {'data': [547, 675, 734], 'label': \"Europe\",\n",
    "     'fill': False}, \n",
    "    {'data': [167, 508, 784], 'label': \"Latin America\",\n",
    "     'fill': False}, \n",
    "    {'data': [172, 312, 433], 'label': \"North America\",\n",
    "     'fill': False}\n",
    "  ]\n",
    "}\n",
    "\n",
    "options = {\n",
    "  'scales': {'xAxes': [{'stacked': True}],\n",
    "             'yAxes': [{'stacked': True}]}\n",
    "}\n",
    "\n",
    "mychart = Chart(dataset, 'bar', options=options, colorscheme='tableau.Tableau20')\n",
    "mychart"
   ]
  },
  {
   "cell_type": "markdown",
   "metadata": {
    "colab_type": "text",
    "id": "WamhC3rNm25C"
   },
   "source": [
    "#### Area"
   ]
  },
  {
   "cell_type": "code",
   "execution_count": null,
   "metadata": {
    "colab": {},
    "colab_type": "code",
    "id": "xndmNdoencT1"
   },
   "outputs": [],
   "source": [
    "dataset = {\n",
    "  'labels': ['Germany','Spain', 'UK', 'Italy', 'Norway', 'France', 'Poland', \n",
    "             'Portugal', 'Sweden', 'Ireland'],\n",
    "  'datasets': [{ \n",
    "    'data': [14, 106, 16, 107, 45, 133, 109, 109, 108, 107],\n",
    "    'fill': True\n",
    "}]}\n",
    "\n",
    "mychart = Chart(dataset, 'line', colorscheme='brewer.PuOr3')\n",
    "mychart\n"
   ]
  },
  {
   "cell_type": "markdown",
   "metadata": {
    "colab_type": "text",
    "id": "FaDQGSszm4pr"
   },
   "source": [
    "#### Mixed"
   ]
  },
  {
   "cell_type": "code",
   "execution_count": null,
   "metadata": {
    "colab": {},
    "colab_type": "code",
    "id": "WaQk_a8tmzed",
    "scrolled": false
   },
   "outputs": [],
   "source": [
    "dataset = {\n",
    "  'labels': ['Dataset 1', 'Dataset 2', 'Dataset 3', 'Dataset 4',\n",
    "             'Dataset 5', 'Dataset 6', 'Dataset 7', 'Dataset 8',\n",
    "             'Dataset 9','Dataset 10'],\n",
    "  'datasets': [{ \n",
    "    'data': [86, 114, 106, 106, 107, 111, 133, 221, 121, 142],\n",
    "    'label': \"Africa\", 'fill': False, 'type': 'line', # Change the type\n",
    "    'pointRadius': 5, 'pointHoverRadius': 10\n",
    "    }, { \n",
    "    'data': [99, 130, 64, 100, 73, 22, 88, 198, 144, 64],\n",
    "    'label': \"Asia\",\n",
    "    }, { \n",
    "    'data': [168, 170, 178, 190, 203, 200, 164, 100, 72, 85],\n",
    "    'label': \"Europe\", 'fill': False, 'type': 'line', # Change the type\n",
    "    'pointRadius': 5, 'pointHoverRadius': 10\n",
    "    }, {\n",
    "    'data': [40, 20, 10, 16, 24, 38, 74, 167, 80, 150],\n",
    "    'label': \"Latin America\",\n",
    "    }, { \n",
    "    'data': [56, 95, 44, 112, 215, 35, 95, 74, 64, 78],\n",
    "    'label': \"North America\",\n",
    "    }\n",
    "  ]\n",
    "}\n",
    "\n",
    "mychart = Chart(dataset, 'bar', colorscheme='tableau.ClassicLight10') # Base type\n",
    "mychart"
   ]
  }
 ],
 "metadata": {
  "colab": {
   "collapsed_sections": [],
   "name": "Chart.ipynb",
   "provenance": []
  },
  "kernelspec": {
   "display_name": "Python 3",
   "language": "python",
   "name": "python3"
  },
  "language_info": {
   "codemirror_mode": {
    "name": "ipython",
    "version": 3
   },
   "file_extension": ".py",
   "mimetype": "text/x-python",
   "name": "python",
   "nbconvert_exporter": "python",
   "pygments_lexer": "ipython3",
   "version": "3.10.0"
  }
 },
 "nbformat": 4,
 "nbformat_minor": 1
}
